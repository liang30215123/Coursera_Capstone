{
    "cells": [
        {
            "metadata": {
                "collapsed": true
            },
            "cell_type": "markdown",
            "source": "# Data for car accidents"
        },
        {
            "metadata": {},
            "cell_type": "markdown",
            "source": "The dataset used for this project is based on car accidents which have taken place within the city of *Seattle, Washington* from the year *2004* to *2020*. This data is regarding the *severity of each car accidents* along with the time and conditions under which each accident occurred. The data set used for this project can be found **<a href=\"https://s3.us.cloud-object-storage.appdomain.cloud/cf-courses-data/CognitiveClass/DP0701EN/version-2/Data-Collisions.csv\">here!</a>**. The model aims to predict the severity of an accident, considering that, the variable of Severity Code was in the form of *1* (Property Damage Only) and *2* (Physical Injury) which were encoded to the form of *0* (Property Damage Only) and *1* (Physical Injury). Following that, *0* was assigned to the element of each variable which can be the least probable cause of severe accident whereas a high number represented adverse condition which can lead to a higher accident severity. Whereas, there were unique values for every variable which were either *Other* or *Unknown*, deleting those rows entirely would have led to a lot of loss of data which is not preferred.\n"
        },
        {
            "metadata": {},
            "cell_type": "markdown",
            "source": "In order to deal with the issue of columns having a variation in frequency, arrays were made for each column which were encoded according to the original column and had equal proportion of elements as the original column. Then the arrays were imposed on the original columns in the positions which had *Other* and *Unknown* in them. This entire process of cleaning data led to a loss of almost 5000 rows which had redundant data, whereas other rows with unknown values were filled earlier."
        },
        {
            "metadata": {},
            "cell_type": "markdown",
            "source": "This dataset (.csv file), with 194,673 rows and 38 columns, contains information such as:"
        },
        {
            "metadata": {},
            "cell_type": "markdown",
            "source": "   - Severity of the accident\n   - Type of collision\n   - Location accident\n   - Number of vehicles involved\n   - Weather conditions\n   - Road conditions\n   - Any pedestrians involved\n    etc"
        },
        {
            "metadata": {},
            "cell_type": "markdown",
            "source": "There are some features that are able to determine potentially dangerous places where serious accidents are most likely to occur, for example, road conditions, light conditions, types of junctions and then add the weather conditions which increases the risk of accident. Finally, the dataset contains a column with the severity code for each accident that ranges from 0 (unknown) to 3 (fatality)."
        },
        {
            "metadata": {},
            "cell_type": "markdown",
            "source": "This study is focused on predicting the level of severity of the collision and being able to prevent new accidents from taking place at potentially dangerous intersections by placing traffic signs to prevent them. To do this, we can ask some question such as:"
        },
        {
            "metadata": {},
            "cell_type": "markdown",
            "source": "- How do road and weather conditions affect accident severity in some specific locations?\n- Is it necessary to invest in fixing the roads to prevent accidents?"
        },
        {
            "metadata": {},
            "cell_type": "markdown",
            "source": "# Data source"
        },
        {
            "metadata": {},
            "cell_type": "markdown",
            "source": "- **<a href=\"https://www.seattletimes.com/seattle-news/data/housing-cars-or-housing-people-debate-rages-as-number-of-cars-in-seattle-hits-new-high/#:~:text=As%20of%202016%2C%20the%20total,are%20the%20number%20of%20cars\">seattletimes!</a>**"
        },
        {
            "metadata": {},
            "cell_type": "markdown",
            "source": "- The dataset can be found in **<a href=\"https://s3.us.cloud-object-storage.appdomain.cloud/cf-courses-data/CognitiveClass/DP0701EN/version-2/Data-Collisions.csv\">Data-Collisions!</a>**"
        },
        {
            "metadata": {},
            "cell_type": "markdown",
            "source": "- The metadata can be found in **<a href=\"https://s3.us.cloud-object-storage.appdomain.cloud/cf-courses-data/CognitiveClass/DP0701EN/version-2/Metadata.pdf\">Metadata</a>**"
        },
        {
            "metadata": {},
            "cell_type": "markdown",
            "source": "### Display the data"
        },
        {
            "metadata": {},
            "cell_type": "markdown",
            "source": "## 4. Methodology"
        },
        {
            "metadata": {},
            "cell_type": "markdown",
            "source": "### Exploratory Analysis"
        },
        {
            "metadata": {},
            "cell_type": "markdown",
            "source": "Considering that the feature set and the target variable are categorical variables with the likes of weather, road condition and light condition being an above level 2 categorical variables whose values are limited and usually based on a particular finite group whose correlation might depict a different image then what it actually is. Generally, considering the effect of these variables in car accidents are important hence these variables were selected. A few pictorial depictions of the dataset were made in order to better understand the data."
        },
        {
            "metadata": {},
            "cell_type": "markdown",
            "source": "The above figure illustrates, after data cleaning has taken place, the distribution of the target variables between Physical Injury and Property Damage Only. As it can be seen that the dataset is supervised but an unbalanced dataset where the distribution of the target variable is in almost 1:2 ratio in favor of property damage. It is very important to have a balanced dataset when using machine learning algorithms. Hence, SMOTE was used from imblearn library in order to balance the target variable in equal proportions in order to have an unbiased classification model which is trained on equal instances of both the elements under severity of accidents."
        },
        {
            "metadata": {},
            "cell_type": "markdown",
            "source": "As mentioned earlier, a number 0 as an element of an independent variable is supposed to depict the least probable cause of a severe accident. The graph above is supposed to depict all the non-zero values within each independent variable of the model and can be seen as the frequency of adverse conditions under which accidents took place. The factor which had most number of accidents under adverse conditions was adverse weather conditions while adverse lighting condition had the second most number of accidents caused by it. The factors which contributed the least to an instance of an accident are over-speeding and the driver being under the influence."
        },
        {
            "metadata": {},
            "cell_type": "markdown",
            "source": "#### Machine Learning Models chosen"
        },
        {
            "metadata": {},
            "cell_type": "markdown",
            "source": "  - Logistic Regression: Logistic regression is a statistical model that in its basic form uses a logistic function to model a binary dependent variable"
        },
        {
            "metadata": {},
            "cell_type": "markdown",
            "source": "  - Decision Tree Analysis: The Decision Tree Analysis breaks down a data set into smaller subsets while at the same time an associated decision tree is incrementally developed. The final result is a tree with decision nodes and leaf nodes."
        },
        {
            "metadata": {},
            "cell_type": "markdown",
            "source": "  - k-Nearest Neighbor: K nearest neighbors is a simple algorithm that stores all available cases and classifies new cases based on a similarity measure (based on distance)"
        },
        {
            "metadata": {},
            "cell_type": "markdown",
            "source": "## 5. Model Accuracy"
        },
        {
            "metadata": {},
            "cell_type": "markdown",
            "source": " - Precision: Precision refers to the percentage of results which are relevant, in simpler terms it can be seen as how many of the selected items from the model are relevant. Mathematically, it is calculated by dividing true positives by true positive and false positive"
        },
        {
            "metadata": {},
            "cell_type": "markdown",
            "source": " - Recall: Recall refers to the percentage of total relevant results correctly classified by the algorithm. In simpler terms, it tells how many relevant items were selected. It is calculated by dividing true positives by true positive and false negative"
        },
        {
            "metadata": {},
            "cell_type": "markdown",
            "source": " - F1-Score: f1-score is a measure of accuracy of the model, which is the harmonic mean of the model\u2019s precision and recall. Perfect precision and recall is shown by the f1-score as 1, which is the highest value for the f1-score, whereas the lowest possible value is 0 which means that either precision or recall is 0\n"
        },
        {
            "metadata": {},
            "cell_type": "markdown",
            "source": "## 6. Conclusion"
        },
        {
            "metadata": {},
            "cell_type": "markdown",
            "source": "When comparing all the models by their f1-scores, Precision and Recall, we can have a clearer picture in terms of the accuracy of the three models individually as a whole and how well they perform for each output of the target variable. When comparing these scores, we can see that the f1-score is highest for k-Nearest Neighbor at 0.75. However, later when we compare the precision and recall for each of the model, we can see that the k-Nearest Neighbor model performs poorly in the precision of 1 at 0.08. The variance is too high for the model to be selected as a viable option. When looking at the other two models, we can see that the Decision Tree has a more balanced precision for 0 and 1. Whereas, the Logistic Regression is more balanced when it comes to recall of 0 and 1. Furthermore, the average f1-score of the two models are very close but for the Logistic Regression it is higher by 0.04. It can be concluded that the both the models can be used side by side for the best performance.\n\n"
        },
        {
            "metadata": {},
            "cell_type": "markdown",
            "source": "## 7. Recommendations"
        },
        {
            "metadata": {},
            "cell_type": "markdown",
            "source": "After assessing the data and the output of the Machine Learning models, a few recommendations can be made for the stakeholders. The developmental body for Seattle city can assess how much of these accidents have occurred in a place where road or light conditions were not ideal for that specific area and could launch development projects for those areas where most severe accidents take place in order to minimize the effects of these two factors. Whereas, the car drivers could also use this data to assess when to take extra precautions on the road under the given circumstances of light condition, road condition and weather, in order to avoid a severe accident, if any."
        },
        {
            "metadata": {},
            "cell_type": "markdown",
            "source": "## 8. Sources"
        },
        {
            "metadata": {},
            "cell_type": "markdown",
            "source": "- https://www.macrotrends.net/cities/23140/seattle/population#:~:text=The%20current%20metro%20area%20population,a%201.2%25%20increase%20from%202017.\n https://www.seattletimes.com/seattle-news/data/housing-cars-or-housing-people-debate-rages-as-number-of-cars-in-seattle-hits-new-high/#:~:text=As%20of%202016%2C%20the%20total,are%20the%20number%20of%20cars.\nhttps://www.asirt.org/safe-travel/road-safety-facts/\nhttps://www.nhtsa.gov/\nhttps://wsdot.wa.gov/"
        },
        {
            "metadata": {},
            "cell_type": "markdown",
            "source": ""
        }
    ],
    "metadata": {
        "kernelspec": {
            "name": "python3",
            "display_name": "Python 3.6",
            "language": "python"
        },
        "language_info": {
            "name": "python",
            "version": "3.6.9",
            "mimetype": "text/x-python",
            "codemirror_mode": {
                "name": "ipython",
                "version": 3
            },
            "pygments_lexer": "ipython3",
            "nbconvert_exporter": "python",
            "file_extension": ".py"
        }
    },
    "nbformat": 4,
    "nbformat_minor": 1
}