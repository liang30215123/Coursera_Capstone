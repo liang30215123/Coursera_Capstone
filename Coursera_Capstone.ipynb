{
    "cells": [
        {
            "metadata": {
                "collapsed": true
            },
            "cell_type": "markdown",
            "source": "# Capstone - Seattle Traffic Accident Severity Prediction"
        },
        {
            "metadata": {},
            "cell_type": "markdown",
            "source": "# 1. Introduction"
        },
        {
            "metadata": {},
            "cell_type": "markdown",
            "source": "Car accidents are one of the most common issues found across the globe to be severe.Accidents might sometimes be due to our negligence or due to natural reasons or anything.Sometimes, we might be too lazy or negligent to drive costing our lives as well as the others.Whereas sometimes, due to heavy rain or heavy gales etc. we might unknowingly droop into an accident with the other car.Whatever the reason maybe, car accidents not only lead to property damage but cause injuries and sometimes even leading to people's death.In our project we decide how these accidents occur due to weather conditions.So, the main problem or question arising in this depressing situation is"
        },
        {
            "metadata": {},
            "cell_type": "markdown",
            "source": "### \"What is the severity of these car accidents?What are their causes?And How to curb or slow down them?\""
        },
        {
            "metadata": {},
            "cell_type": "markdown",
            "source": "# 2. Business Problem"
        },
        {
            "metadata": {},
            "cell_type": "markdown",
            "source": "The objective of this capstone project is to analyze and study the collision dataset for the city of Seattle, Washington and find patterns and determinate key factors such as weather, visibility, and road conditions to create the best traffic accident severity prediction. It will use various analytical techniques and machine learning classification algorithms such as k-nearest-neighbors, Support Vector Machine, etc."
        },
        {
            "metadata": {},
            "cell_type": "markdown",
            "source": "This project will build on and study the possible answers to the following question: How can the city of Seattle create the best model prediction of Traffic Accident Severity and how can it improve to address this issue?"
        },
        {
            "metadata": {},
            "cell_type": "markdown",
            "source": "# 3. Target Audience"
        },
        {
            "metadata": {},
            "cell_type": "markdown",
            "source": "After this study, we can provide the result and some solutions that can reduce accidents and prevent them to different government departments, car rental companies, insurance companies and emergency contacts as well."
        },
        {
            "metadata": {},
            "cell_type": "code",
            "source": "",
            "execution_count": null,
            "outputs": []
        }
    ],
    "metadata": {
        "kernelspec": {
            "name": "python3",
            "display_name": "Python 3.6",
            "language": "python"
        },
        "language_info": {
            "name": "python",
            "version": "3.6.9",
            "mimetype": "text/x-python",
            "codemirror_mode": {
                "name": "ipython",
                "version": 3
            },
            "pygments_lexer": "ipython3",
            "nbconvert_exporter": "python",
            "file_extension": ".py"
        }
    },
    "nbformat": 4,
    "nbformat_minor": 1
}